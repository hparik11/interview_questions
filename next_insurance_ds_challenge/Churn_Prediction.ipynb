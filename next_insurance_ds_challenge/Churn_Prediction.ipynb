{
 "cells": [
  {
   "cell_type": "code",
   "execution_count": 1,
   "metadata": {},
   "outputs": [],
   "source": [
    "#Required Packages:\n",
    "\n",
    "import pandas as pd\n",
    "import numpy as np\n",
    "import matplotlib.pyplot as plt\n",
    "\n",
    "# Sklearn libraries\n",
    "from sklearn.model_selection import train_test_split, cross_val_score, GridSearchCV, KFold\n",
    "from sklearn.preprocessing import OneHotEncoder, StandardScaler\n",
    "from sklearn.linear_model import LinearRegression, Ridge, Lasso, ElasticNet, LogisticRegression\n",
    "from sklearn.compose import make_column_transformer\n",
    "from sklearn.pipeline import make_pipeline\n",
    "from collections import Counter\n",
    "from sklearn.metrics import classification_report\n",
    "from sklearn.feature_extraction.text import TfidfVectorizer\n",
    "\n",
    "import warnings\n",
    "warnings.filterwarnings('ignore')"
   ]
  },
  {
   "cell_type": "markdown",
   "metadata": {},
   "source": [
    "## Loading data and cleaning data"
   ]
  },
  {
   "cell_type": "raw",
   "metadata": {},
   "source": [
    "Following intial assumptions where made for data cleaning and creating the predictive features:\n",
    "1- Customer_id does not contain any predictive information\n",
    "2- 'channel', 'geo', 'start_date', 'end_date', 'carrier', and 'profession' are categorical features used for prediction\n",
    "3- We are not using the cancelation reason as preditive feature. Although, it can be a good feature to for exploratory analysis.\n",
    "4- The model is set up as a classification. The target value \"y\" can take values from 0-11 indicating the policy has ended in which month and value 12 showing that the policy is active."
   ]
  },
  {
   "cell_type": "code",
   "execution_count": 2,
   "metadata": {},
   "outputs": [],
   "source": [
    "data_df = pd.read_csv('data_challenge_churn.csv', parse_dates = ['start_date','end_date'])"
   ]
  },
  {
   "cell_type": "code",
   "execution_count": 3,
   "metadata": {
    "scrolled": true
   },
   "outputs": [
    {
     "data": {
      "text/html": [
       "<div>\n",
       "<style scoped>\n",
       "    .dataframe tbody tr th:only-of-type {\n",
       "        vertical-align: middle;\n",
       "    }\n",
       "\n",
       "    .dataframe tbody tr th {\n",
       "        vertical-align: top;\n",
       "    }\n",
       "\n",
       "    .dataframe thead th {\n",
       "        text-align: right;\n",
       "    }\n",
       "</style>\n",
       "<table border=\"1\" class=\"dataframe\">\n",
       "  <thead>\n",
       "    <tr style=\"text-align: right;\">\n",
       "      <th></th>\n",
       "      <th>customer_id</th>\n",
       "      <th>channel</th>\n",
       "      <th>geo</th>\n",
       "      <th>start_date</th>\n",
       "      <th>end_date</th>\n",
       "      <th>carrier</th>\n",
       "      <th>profession</th>\n",
       "      <th>cancellation_reason</th>\n",
       "    </tr>\n",
       "  </thead>\n",
       "  <tbody>\n",
       "    <tr>\n",
       "      <th>0</th>\n",
       "      <td>d26f427100f022022014ee543e7fa0e8</td>\n",
       "      <td>affiliation</td>\n",
       "      <td>CA</td>\n",
       "      <td>2018-05-22</td>\n",
       "      <td>2019-05-22</td>\n",
       "      <td>2</td>\n",
       "      <td>1000</td>\n",
       "      <td>NaN</td>\n",
       "    </tr>\n",
       "    <tr>\n",
       "      <th>1</th>\n",
       "      <td>ed62654168d10e645bd9d322e8f3d04b</td>\n",
       "      <td>affiliation</td>\n",
       "      <td>NY</td>\n",
       "      <td>2017-09-28</td>\n",
       "      <td>2018-09-28</td>\n",
       "      <td>2</td>\n",
       "      <td>1000</td>\n",
       "      <td>NaN</td>\n",
       "    </tr>\n",
       "    <tr>\n",
       "      <th>2</th>\n",
       "      <td>2fdb93954bea383d5d9f04953131fa5a</td>\n",
       "      <td>support</td>\n",
       "      <td>TX</td>\n",
       "      <td>2018-04-20</td>\n",
       "      <td>2019-04-20</td>\n",
       "      <td>7</td>\n",
       "      <td>5009</td>\n",
       "      <td>NaN</td>\n",
       "    </tr>\n",
       "    <tr>\n",
       "      <th>3</th>\n",
       "      <td>97244decfbab241392b92c09d699275c</td>\n",
       "      <td>sem</td>\n",
       "      <td>OH</td>\n",
       "      <td>2018-02-05</td>\n",
       "      <td>2019-02-05</td>\n",
       "      <td>3</td>\n",
       "      <td>3000</td>\n",
       "      <td>NaN</td>\n",
       "    </tr>\n",
       "    <tr>\n",
       "      <th>4</th>\n",
       "      <td>700bfab23906fc29bd7352ebaf368a08</td>\n",
       "      <td>email</td>\n",
       "      <td>MO</td>\n",
       "      <td>2018-03-13</td>\n",
       "      <td>2018-07-06</td>\n",
       "      <td>7</td>\n",
       "      <td>100001</td>\n",
       "      <td>I had a short-term need for insurance that has...</td>\n",
       "    </tr>\n",
       "  </tbody>\n",
       "</table>\n",
       "</div>"
      ],
      "text/plain": [
       "                        customer_id      channel geo start_date   end_date  \\\n",
       "0  d26f427100f022022014ee543e7fa0e8  affiliation  CA 2018-05-22 2019-05-22   \n",
       "1  ed62654168d10e645bd9d322e8f3d04b  affiliation  NY 2017-09-28 2018-09-28   \n",
       "2  2fdb93954bea383d5d9f04953131fa5a      support  TX 2018-04-20 2019-04-20   \n",
       "3  97244decfbab241392b92c09d699275c          sem  OH 2018-02-05 2019-02-05   \n",
       "4  700bfab23906fc29bd7352ebaf368a08        email  MO 2018-03-13 2018-07-06   \n",
       "\n",
       "   carrier  profession                                cancellation_reason  \n",
       "0        2        1000                                                NaN  \n",
       "1        2        1000                                                NaN  \n",
       "2        7        5009                                                NaN  \n",
       "3        3        3000                                                NaN  \n",
       "4        7      100001  I had a short-term need for insurance that has...  "
      ]
     },
     "execution_count": 3,
     "metadata": {},
     "output_type": "execute_result"
    }
   ],
   "source": [
    "data_df.head()"
   ]
  },
  {
   "cell_type": "markdown",
   "metadata": {},
   "source": [
    "### Insights about data"
   ]
  },
  {
   "cell_type": "code",
   "execution_count": 4,
   "metadata": {},
   "outputs": [
    {
     "name": "stdout",
     "output_type": "stream",
     "text": [
      "Total number of samples in data are 30313..\n"
     ]
    }
   ],
   "source": [
    "print(\"Total number of samples in data are {}..\".format(data_df.shape[0]))"
   ]
  },
  {
   "cell_type": "markdown",
   "metadata": {},
   "source": [
    "#### NULL values checking"
   ]
  },
  {
   "cell_type": "code",
   "execution_count": 5,
   "metadata": {},
   "outputs": [
    {
     "data": {
      "text/plain": [
       "customer_id                0\n",
       "channel                   44\n",
       "geo                        0\n",
       "start_date                 0\n",
       "end_date                   0\n",
       "carrier                    0\n",
       "profession                 0\n",
       "cancellation_reason    23631\n",
       "dtype: int64"
      ]
     },
     "execution_count": 5,
     "metadata": {},
     "output_type": "execute_result"
    }
   ],
   "source": [
    "data_df.isnull().sum()"
   ]
  },
  {
   "cell_type": "code",
   "execution_count": 7,
   "metadata": {
    "scrolled": true
   },
   "outputs": [],
   "source": [
    "# channel colummn has 44 null values, since it's a categorical column, we could just remove all null rows for now\n",
    "\n",
    "data_df = data_df.dropna(subset=['channel'])"
   ]
  },
  {
   "cell_type": "markdown",
   "metadata": {},
   "source": [
    "#### After cleaning up, let's check how many rows we have "
   ]
  },
  {
   "cell_type": "code",
   "execution_count": 202,
   "metadata": {},
   "outputs": [
    {
     "name": "stdout",
     "output_type": "stream",
     "text": [
      "Total number of samples in data are 30269..\n"
     ]
    }
   ],
   "source": [
    "print(\"Total number of samples in data are {}..\".format(data_df.shape[0]))"
   ]
  },
  {
   "cell_type": "code",
   "execution_count": 8,
   "metadata": {},
   "outputs": [
    {
     "data": {
      "text/plain": [
       "customer_id                0\n",
       "channel                    0\n",
       "geo                        0\n",
       "start_date                 0\n",
       "end_date                   0\n",
       "carrier                    0\n",
       "profession                 0\n",
       "cancellation_reason    23592\n",
       "dtype: int64"
      ]
     },
     "execution_count": 8,
     "metadata": {},
     "output_type": "execute_result"
    }
   ],
   "source": [
    "# Rechecking if there are null values still or not\n",
    "\n",
    "data_df.isnull().sum()"
   ]
  },
  {
   "cell_type": "markdown",
   "metadata": {},
   "source": [
    "#### Let's find out which policies are active and which are not"
   ]
  },
  {
   "cell_type": "code",
   "execution_count": 9,
   "metadata": {},
   "outputs": [],
   "source": [
    "data_df['diff_date'] = (data_df['end_date'] - data_df['start_date'])/np.timedelta64(1,'M')\n",
    "\n",
    "## Policies which are one year apart, we will put them as 12th\n",
    "one_year_diff = data_df.diff_date.iloc[0]\n",
    "boo = data_df.diff_date == one_year_diff\n",
    "data_df.diff_date[boo] = 12\n",
    "\n",
    "data_df['diff_date'] = data_df['diff_date'].apply(np.floor)\n",
    "\n",
    "processed_df = data_df[data_df['diff_date'] < 12]\n"
   ]
  },
  {
   "cell_type": "code",
   "execution_count": 10,
   "metadata": {},
   "outputs": [],
   "source": [
    "predictive_features = ['channel', 'geo', 'carrier', 'profession', 'cancellation_reason']"
   ]
  },
  {
   "cell_type": "code",
   "execution_count": 11,
   "metadata": {},
   "outputs": [
    {
     "data": {
      "text/html": [
       "<div>\n",
       "<style scoped>\n",
       "    .dataframe tbody tr th:only-of-type {\n",
       "        vertical-align: middle;\n",
       "    }\n",
       "\n",
       "    .dataframe tbody tr th {\n",
       "        vertical-align: top;\n",
       "    }\n",
       "\n",
       "    .dataframe thead th {\n",
       "        text-align: right;\n",
       "    }\n",
       "</style>\n",
       "<table border=\"1\" class=\"dataframe\">\n",
       "  <thead>\n",
       "    <tr style=\"text-align: right;\">\n",
       "      <th></th>\n",
       "      <th>customer_id</th>\n",
       "      <th>channel</th>\n",
       "      <th>geo</th>\n",
       "      <th>start_date</th>\n",
       "      <th>end_date</th>\n",
       "      <th>carrier</th>\n",
       "      <th>profession</th>\n",
       "      <th>cancellation_reason</th>\n",
       "      <th>diff_date</th>\n",
       "    </tr>\n",
       "  </thead>\n",
       "  <tbody>\n",
       "    <tr>\n",
       "      <th>4</th>\n",
       "      <td>700bfab23906fc29bd7352ebaf368a08</td>\n",
       "      <td>email</td>\n",
       "      <td>MO</td>\n",
       "      <td>2018-03-13</td>\n",
       "      <td>2018-07-06</td>\n",
       "      <td>7</td>\n",
       "      <td>100001</td>\n",
       "      <td>I had a short-term need for insurance that has...</td>\n",
       "      <td>3.0</td>\n",
       "    </tr>\n",
       "    <tr>\n",
       "      <th>9</th>\n",
       "      <td>27dd9a21427fe985360c950d312fded6</td>\n",
       "      <td>support</td>\n",
       "      <td>OH</td>\n",
       "      <td>2018-06-01</td>\n",
       "      <td>2018-06-01</td>\n",
       "      <td>7</td>\n",
       "      <td>5006</td>\n",
       "      <td>No insurance</td>\n",
       "      <td>0.0</td>\n",
       "    </tr>\n",
       "    <tr>\n",
       "      <th>10</th>\n",
       "      <td>d03771e0d697967a09f6b3d2da364245</td>\n",
       "      <td>sem</td>\n",
       "      <td>NC</td>\n",
       "      <td>2017-07-05</td>\n",
       "      <td>2017-10-02</td>\n",
       "      <td>2</td>\n",
       "      <td>1000</td>\n",
       "      <td>Covered by employer</td>\n",
       "      <td>2.0</td>\n",
       "    </tr>\n",
       "    <tr>\n",
       "      <th>16</th>\n",
       "      <td>798e29b69b5d22827ea95198001a7d6a</td>\n",
       "      <td>email</td>\n",
       "      <td>OH</td>\n",
       "      <td>2018-04-16</td>\n",
       "      <td>2018-06-16</td>\n",
       "      <td>7</td>\n",
       "      <td>100001</td>\n",
       "      <td>Non-Payment</td>\n",
       "      <td>2.0</td>\n",
       "    </tr>\n",
       "    <tr>\n",
       "      <th>19</th>\n",
       "      <td>66e3a0fcd32444ce93c9dddc75f2d604</td>\n",
       "      <td>affiliation</td>\n",
       "      <td>PA</td>\n",
       "      <td>2017-08-12</td>\n",
       "      <td>2017-12-21</td>\n",
       "      <td>2</td>\n",
       "      <td>1000</td>\n",
       "      <td>No insurance</td>\n",
       "      <td>4.0</td>\n",
       "    </tr>\n",
       "  </tbody>\n",
       "</table>\n",
       "</div>"
      ],
      "text/plain": [
       "                         customer_id      channel geo start_date   end_date  \\\n",
       "4   700bfab23906fc29bd7352ebaf368a08        email  MO 2018-03-13 2018-07-06   \n",
       "9   27dd9a21427fe985360c950d312fded6      support  OH 2018-06-01 2018-06-01   \n",
       "10  d03771e0d697967a09f6b3d2da364245          sem  NC 2017-07-05 2017-10-02   \n",
       "16  798e29b69b5d22827ea95198001a7d6a        email  OH 2018-04-16 2018-06-16   \n",
       "19  66e3a0fcd32444ce93c9dddc75f2d604  affiliation  PA 2017-08-12 2017-12-21   \n",
       "\n",
       "    carrier  profession                                cancellation_reason  \\\n",
       "4         7      100001  I had a short-term need for insurance that has...   \n",
       "9         7        5006                                       No insurance   \n",
       "10        2        1000                                Covered by employer   \n",
       "16        7      100001                                        Non-Payment   \n",
       "19        2        1000                                       No insurance   \n",
       "\n",
       "    diff_date  \n",
       "4         3.0  \n",
       "9         0.0  \n",
       "10        2.0  \n",
       "16        2.0  \n",
       "19        4.0  "
      ]
     },
     "execution_count": 11,
     "metadata": {},
     "output_type": "execute_result"
    }
   ],
   "source": [
    "processed_df.head()"
   ]
  },
  {
   "cell_type": "code",
   "execution_count": 12,
   "metadata": {},
   "outputs": [],
   "source": [
    "### Cleaning up cancellation reason for create bag of words or word vectors\n",
    "\n",
    "data_df['cancellation_reason'].fillna('', inplace=True)\n",
    "# vectoriser = TfidfVectorizer()\n",
    "# df['wordsVect'] = list(vectoriser.fit_transform(df['cancellation_reason']).toarray())"
   ]
  },
  {
   "cell_type": "code",
   "execution_count": 13,
   "metadata": {},
   "outputs": [],
   "source": [
    "X = processed_df[predictive_features]\n",
    "y = np.floor(processed_df.diff_date)"
   ]
  },
  {
   "cell_type": "markdown",
   "metadata": {},
   "source": [
    "### Exploratory Data Analysis and Visulization"
   ]
  },
  {
   "cell_type": "markdown",
   "metadata": {},
   "source": [
    "Below is the histogram of the target variable y. This shows that we are dealing with an imbalanced data-set as most of the class \"12\" has clear maority. This means that the majority of the policy holders remains in the policy after one year."
   ]
  },
  {
   "cell_type": "code",
   "execution_count": 46,
   "metadata": {},
   "outputs": [
    {
     "data": {
      "image/png": "[encoded data removed]",
      "text/plain": [
       "<Figure size 576x576 with 1 Axes>"
      ]
     },
     "metadata": {
      "needs_background": "light"
     },
     "output_type": "display_data"
    }
   ],
   "source": [
    "figure, ax = plt.subplots(figsize=(8,8))\n",
    "ax.set_xlabel(\"Churn Month\")  #x = 12 --> churn didn't occure\n",
    "ax.set_ylabel(\"Count\")\n",
    "ax.hist(y, bins = 12);\n",
    "figure.savefig(\"y_hist\", dpi=300)"
   ]
  },
  {
   "cell_type": "markdown",
   "metadata": {},
   "source": [
    "#### Since attribute is a categorical variable, it is important to know how many category each feature has. Following code shows this."
   ]
  },
  {
   "cell_type": "code",
   "execution_count": 15,
   "metadata": {},
   "outputs": [],
   "source": [
    "categorical_features = ['channel', 'geo', 'carrier', 'profession']\n"
   ]
  },
  {
   "cell_type": "code",
   "execution_count": 16,
   "metadata": {},
   "outputs": [
    {
     "name": "stdout",
     "output_type": "stream",
     "text": [
      "Number of categories in feature channel = 15\n",
      "Number of categories in feature geo = 51\n",
      "Number of categories in feature carrier = 6\n",
      "Number of categories in feature profession = 43\n"
     ]
    }
   ],
   "source": [
    "for feature in categorical_features:\n",
    "    print('Number of categories in feature ' + feature + ' = {:.0f}'.format(len(Counter(X[feature]))))"
   ]
  },
  {
   "cell_type": "markdown",
   "metadata": {},
   "source": [
    "#### Following figures show the predictive features with respective to the target value. For the sake of visualization, the target value is shown only with two classes. "
   ]
  },
  {
   "cell_type": "code",
   "execution_count": 17,
   "metadata": {},
   "outputs": [],
   "source": [
    "def make_plot(category):\n",
    "    figure, ax = plt.subplots(1,1)\n",
    "    not_churned = []\n",
    "    churned = []\n",
    "    category_list = data_df[category].value_counts().keys()\n",
    "\n",
    "    for cat in category_list:\n",
    "        comp = data_df[category] == cat\n",
    "        A = np.sum(data_df[comp]['diff_date']==12)\n",
    "        B = np.sum(comp) \n",
    "        churned.append(A)                           \n",
    "        not_churned.append(B-A)\n",
    "        \n",
    "    if category == 'profession': \n",
    "        category_list = [str(i) for i in category_list]\n",
    "    \n",
    "    p1 = plt.barh(category_list, not_churned, align='center', alpha=0.3)\n",
    "    p2 = plt.barh(category_list, churned, left = not_churned, align='center', alpha=0.3) \n",
    "    fig = plt.gcf()\n",
    "    fig.set_size_inches(8,8)\n",
    "    plt.legend((p1[0],p2[0]),('churned','not churned'))\n",
    "    plt.title(category)\n",
    "    plt.tight_layout()\n"
   ]
  },
  {
   "cell_type": "code",
   "execution_count": 18,
   "metadata": {},
   "outputs": [
    {
     "data": {
      "image/png": "[encoded data removed]",
      "text/plain": [
       "<Figure size 576x576 with 1 Axes>"
      ]
     },
     "metadata": {
      "needs_background": "light"
     },
     "output_type": "display_data"
    }
   ],
   "source": [
    "make_plot('channel') "
   ]
  },
  {
   "cell_type": "code",
   "execution_count": 19,
   "metadata": {},
   "outputs": [
    {
     "data": {
      "image/png": "[encoded data removed]",
      "text/plain": [
       "<Figure size 576x576 with 1 Axes>"
      ]
     },
     "metadata": {
      "needs_background": "light"
     },
     "output_type": "display_data"
    }
   ],
   "source": [
    "make_plot('geo')"
   ]
  },
  {
   "cell_type": "code",
   "execution_count": 20,
   "metadata": {},
   "outputs": [
    {
     "data": {
      "image/png": "[encoded data removed]",
      "text/plain": [
       "<Figure size 576x576 with 1 Axes>"
      ]
     },
     "metadata": {
      "needs_background": "light"
     },
     "output_type": "display_data"
    }
   ],
   "source": [
    "make_plot('carrier')"
   ]
  },
  {
   "cell_type": "code",
   "execution_count": 21,
   "metadata": {},
   "outputs": [
    {
     "data": {
      "image/png": "[encoded data removed]",
      "text/plain": [
       "<Figure size 576x576 with 1 Axes>"
      ]
     },
     "metadata": {
      "needs_background": "light"
     },
     "output_type": "display_data"
    }
   ],
   "source": [
    "make_plot('profession')"
   ]
  },
  {
   "cell_type": "markdown",
   "metadata": {},
   "source": [
    "### Let's see breakdow by classes"
   ]
  },
  {
   "cell_type": "code",
   "execution_count": 22,
   "metadata": {},
   "outputs": [
    {
     "data": {
      "text/plain": [
       "2.0     1410\n",
       "0.0     1145\n",
       "3.0      859\n",
       "4.0      719\n",
       "6.0      515\n",
       "5.0      502\n",
       "1.0      481\n",
       "8.0      299\n",
       "9.0      246\n",
       "10.0     189\n",
       "7.0      186\n",
       "11.0     133\n",
       "Name: diff_date, dtype: int64"
      ]
     },
     "execution_count": 22,
     "metadata": {},
     "output_type": "execute_result"
    }
   ],
   "source": [
    "y.value_counts()"
   ]
  },
  {
   "cell_type": "code",
   "execution_count": 23,
   "metadata": {},
   "outputs": [],
   "source": [
    "from sklearn.base import BaseEstimator, TransformerMixin\n",
    "\n",
    "class ItemSelector(BaseEstimator, TransformerMixin):\n",
    "    \"\"\"For data grouped by feature, select subset of data at a provided key.\n",
    "\n",
    "    The data is expected to be stored in a 2D data structure, where the first\n",
    "    index is over features and the second is over samples.  i.e.\n",
    "\n",
    "    Parameters\n",
    "    ----------\n",
    "    key : hashable, required\n",
    "        The key corresponding to the desired value in a mappable.\n",
    "    \"\"\"\n",
    "    def __init__(self, keys):\n",
    "        self.keys = keys\n",
    "\n",
    "    def fit(self, x, y=None):\n",
    "        return self\n",
    "\n",
    "    def transform(self, data_dict):\n",
    "        return data_dict[self.keys]\n",
    "    \n",
    "class DataExtractor(BaseEstimator, TransformerMixin):\n",
    "    \"\"\"Extract the categorical and text feature from data.\n",
    "    \"\"\"\n",
    "    def fit(self, x, y=None):\n",
    "        return self\n",
    "    \n",
    "    def transform(self, data):\n",
    "        features = np.recarray(shape=(len(data),),\n",
    "                               dtype=[\n",
    "                                  ('reason', object), \n",
    "                                  ('channel', object), \n",
    "                                  ('geo', object), \n",
    "                                  ('carrier', object),\n",
    "                                  ('profession', object)\n",
    "                               ]\n",
    "                             )\n",
    "        \n",
    "        features['channel'] = data['channel']\n",
    "        features['geo'] = data['geo']\n",
    "        features['carrier'] = data['carrier']\n",
    "        features['profession'] = data['profession']\n",
    "        \n",
    "        for i, row in data.iterrows():\n",
    "            features['reason'][i] = row['cancellation_reason']\n",
    "        \n",
    "        return features"
   ]
  },
  {
   "cell_type": "code",
   "execution_count": 24,
   "metadata": {},
   "outputs": [],
   "source": [
    "class ClassificationModel(object): \n",
    "    def __init__(self, X_cat, X_text, class_num):\n",
    "        global Pipeline, GridSearchCV\n",
    "        from sklearn.pipeline import Pipeline\n",
    "        from sklearn.model_selection import GridSearchCV\n",
    "        \n",
    "        self.GridSearchCV = GridSearchCV\n",
    "        self.Pipeline = Pipeline\n",
    "        self.X_cat = X_cat\n",
    "        self.X_text = X_text\n",
    "        self.class_num = class_num\n",
    "         \n",
    "    def preproccess(self):\n",
    "        from sklearn.preprocessing import OneHotEncoder\n",
    "        from sklearn.compose import ColumnTransformer\n",
    "        from sklearn.pipeline import FeatureUnion\n",
    "        \n",
    "        categorical_one_hot_transformer = Pipeline(steps=[('onehot', OneHotEncoder(handle_unknown='ignore'))])\n",
    "        text_vectorizer = Pipeline(steps=[('vectors', TfidfVectorizer(min_df=50))])\n",
    "        \n",
    "        # df['cancellation_reason'].fillna('', inplace=True)\n",
    "        # df['wordsVect'] = list(vectoriser.fit_transform(df['cancellation_reason']).toarray())\n",
    "\n",
    "        self.preprocessor = Pipeline([\n",
    "#             ('data', DataExtractor()),\n",
    "            ('union', FeatureUnion(\n",
    "                transformer_list=[\n",
    "                    ('categorical', Pipeline([\n",
    "                        ('selector', ItemSelector(keys=self.X_cat)),\n",
    "                        ('cat_onehot', categorical_one_hot_transformer),\n",
    "                    ])),\n",
    "                    \n",
    "                    # Pipeline for pulling features from the post's subject line\n",
    "#                     ('text', Pipeline([\n",
    "#                         ('selector', ItemSelector(keys=X_text)),\n",
    "#                         ('tfidf', text_vectorizer),\n",
    "#                     ]))\n",
    "                ],\n",
    "                \n",
    "                # weight components in FeatureUnion\n",
    "                transformer_weights={\n",
    "                    'categorical': 0.8,\n",
    "#                     'text': 0.5\n",
    "                },\n",
    "            )\n",
    "            )\n",
    "        ])\n",
    "        \n",
    "        return self.preprocessor\n",
    "        \n",
    "    def LogisticRegressionBuilder(self, param_grid, scoring):\n",
    "        from sklearn.linear_model import LogisticRegression\n",
    "        \n",
    "        lr_pipe = Pipeline(steps=[('preprocessor', self.preproccess()),\n",
    "                              ('classifier', LogisticRegression(solver='lbfgs', multi_class='multinomial'))])\n",
    "        \n",
    "        lr_grid = GridSearchCV(lr_pipe, param_grid, cv=5, iid=False, scoring=scoring, n_jobs=-1)\n",
    "        \n",
    "        return lr_grid\n",
    "    \n",
    "    def RandomForestBuilder(self, param_grid, scoring):\n",
    "        from sklearn.ensemble import RandomForestClassifier\n",
    "\n",
    "        rf_pipe = Pipeline(steps=[('preprocessor', self.preprocessor),\n",
    "                     ('classifier', RandomForestClassifier(max_features = 'auto'))])\n",
    "\n",
    "        grid_rf = GridSearchCV(rf_pipe, param_grid, cv=5, scoring=scoring, n_jobs=-1)\n",
    "\n",
    "        return grid_rf\n",
    "    \n",
    "    def SvmClassifier(self, param_grid, scoring):\n",
    "        from sklearn import svm\n",
    "        \n",
    "        svm_pipe = Pipeline(steps=[('preprocessor', self.preprocessor),\n",
    "                     ('classifier', svm.SVC(kernel='rbf'))])\n",
    "\n",
    "        grid_svm = GridSearchCV(svm_pipe, param_grid, cv=5, scoring=scoring, n_jobs=-1)\n",
    "\n",
    "        return grid_svm"
   ]
  },
  {
   "cell_type": "code",
   "execution_count": 26,
   "metadata": {},
   "outputs": [
    {
     "name": "stdout",
     "output_type": "stream",
     "text": [
      "(6684, 5)\n",
      "(5013, 5)\n",
      "(1671, 5)\n"
     ]
    }
   ],
   "source": [
    "X_train, X_test, y_train, y_test= train_test_split(X,y, random_state=4)\n",
    "print(X.shape)\n",
    "print(X_train.shape)\n",
    "print(X_test.shape)"
   ]
  },
  {
   "cell_type": "markdown",
   "metadata": {},
   "source": [
    "### Since the dataset has class imbalance, the training data is oversampled"
   ]
  },
  {
   "cell_type": "code",
   "execution_count": 27,
   "metadata": {},
   "outputs": [],
   "source": [
    "from imblearn.over_sampling import RandomOverSampler\n",
    "\n",
    "ros = RandomOverSampler()\n",
    "X_train_oversample, y_train_oversample = ros.fit_sample(X_train, y_train)\n",
    "X_train_oversample = pd.DataFrame(X_train_oversample, columns = X.keys())"
   ]
  },
  {
   "cell_type": "code",
   "execution_count": 28,
   "metadata": {},
   "outputs": [
    {
     "data": {
      "text/plain": [
       "Counter({3.0: 1051,\n",
       "         10.0: 1051,\n",
       "         4.0: 1051,\n",
       "         5.0: 1051,\n",
       "         1.0: 1051,\n",
       "         8.0: 1051,\n",
       "         2.0: 1051,\n",
       "         9.0: 1051,\n",
       "         0.0: 1051,\n",
       "         11.0: 1051,\n",
       "         6.0: 1051,\n",
       "         7.0: 1051})"
      ]
     },
     "execution_count": 28,
     "metadata": {},
     "output_type": "execute_result"
    }
   ],
   "source": [
    "class_names = ['class_'+str(i) for i in range(1,13)]\n",
    "Counter(y_train_oversample)"
   ]
  },
  {
   "cell_type": "markdown",
   "metadata": {},
   "source": [
    "Two Classification Models (Logistic Regression and RandomForrest), are tested and optimized for their hyperparameters.The trained classifiers are tested with the set aside test data. The test accuracy for logistic regression model on test set is 0.21 and the accuracy of the RandomForrest model for the test set is 0.28"
   ]
  },
  {
   "cell_type": "markdown",
   "metadata": {},
   "source": [
    "### Logistic Regression Builder"
   ]
  },
  {
   "cell_type": "code",
   "execution_count": 32,
   "metadata": {
    "scrolled": false
   },
   "outputs": [
    {
     "name": "stdout",
     "output_type": "stream",
     "text": [
      "Best cross-validation Logistic 0.23\n",
      "Best parameters:{'classifier__C': 0.1, 'classifier__penalty': 'l2'}\n"
     ]
    }
   ],
   "source": [
    "X_cat = categorical_features\n",
    "X_text = ['cancellation_reason']\n",
    "\n",
    "param_grid = {\n",
    "          'classifier__C': [.01, .1, 1, 10, 100, 1000],\n",
    "          'classifier__penalty': ['l2']\n",
    "}\n",
    "\n",
    "CM = ClassificationModel(X_cat, X_text, 12);\n",
    "grid_lr = CM.LogisticRegressionBuilder(param_grid, 'accuracy');\n",
    "grid_lr.fit(X_train, y_train)\n",
    "print (\"Best cross-validation Logistic {:.2f}\".format(grid_lr.best_score_))\n",
    "print (\"Best parameters:{}\".format(grid_lr.best_params_))"
   ]
  },
  {
   "cell_type": "markdown",
   "metadata": {},
   "source": [
    "### Classification Summary for Logistic Regression"
   ]
  },
  {
   "cell_type": "code",
   "execution_count": 33,
   "metadata": {},
   "outputs": [
    {
     "name": "stdout",
     "output_type": "stream",
     "text": [
      "Test Accuracy for LR model = 0.2214\n",
      "              precision    recall  f1-score   support\n",
      "\n",
      "     class_1       0.26      0.43      0.33       279\n",
      "     class_2       0.00      0.00      0.00       103\n",
      "     class_3       0.21      0.69      0.32       359\n",
      "     class_4       0.11      0.00      0.01       221\n",
      "     class_5       0.00      0.00      0.00       179\n",
      "     class_6       0.00      0.00      0.00       122\n",
      "     class_7       0.00      0.00      0.00       150\n",
      "     class_8       0.00      0.00      0.00        48\n",
      "     class_9       0.00      0.00      0.00        81\n",
      "    class_10       0.00      0.00      0.00        62\n",
      "    class_11       0.00      0.00      0.00        38\n",
      "    class_12       0.00      0.00      0.00        29\n",
      "\n",
      "   micro avg       0.22      0.22      0.22      1671\n",
      "   macro avg       0.05      0.09      0.06      1671\n",
      "weighted avg       0.10      0.22      0.13      1671\n",
      "\n"
     ]
    },
    {
     "data": {
      "text/plain": [
       "Counter({2.0: 3515, 4.0: 118, 0.0: 1357, 3.0: 23})"
      ]
     },
     "execution_count": 33,
     "metadata": {},
     "output_type": "execute_result"
    }
   ],
   "source": [
    "print (\"Test Accuracy for LR model = {:.4f}\".format(grid_lr.score(X_test,y_test)))\n",
    "print(classification_report(y_test, grid_lr.predict(X_test), target_names=class_names))\n",
    "Counter(grid_lr.predict(X_train))"
   ]
  },
  {
   "cell_type": "markdown",
   "metadata": {},
   "source": [
    "### SVM Builder"
   ]
  },
  {
   "cell_type": "code",
   "execution_count": 34,
   "metadata": {},
   "outputs": [
    {
     "name": "stdout",
     "output_type": "stream",
     "text": [
      "Best cross-validation score SVM 0.39\n",
      "Best parameters:{'classifier__C': 10, 'classifier__gamma': 1}\n"
     ]
    }
   ],
   "source": [
    "param_grid = {'classifier__C': [0.001, 0.01, 0.1, 1, 10],\n",
    "               'classifier__gamma': [0.001, 0.01, 0.1, 1]\n",
    "             }\n",
    "grid_svm = CM.SvmClassifier(param_grid, scoring = 'accuracy')\n",
    "\n",
    "grid_svm.fit(X_train_oversample, y_train_oversample)\n",
    "print (\"Best cross-validation score SVM {:.2f}\".format(grid_svm.best_score_))\n",
    "print (\"Best parameters:{}\".format(grid_svm.best_params_))"
   ]
  },
  {
   "cell_type": "markdown",
   "metadata": {},
   "source": [
    "### Classification Summary for SVM"
   ]
  },
  {
   "cell_type": "code",
   "execution_count": 37,
   "metadata": {},
   "outputs": [
    {
     "name": "stdout",
     "output_type": "stream",
     "text": [
      "Test Accuracy for SVM model = 0.1370\n",
      "              precision    recall  f1-score   support\n",
      "\n",
      "     class_1       0.32      0.28      0.30       279\n",
      "     class_2       0.12      0.11      0.11       103\n",
      "     class_3       0.28      0.16      0.20       359\n",
      "     class_4       0.17      0.08      0.11       221\n",
      "     class_5       0.17      0.07      0.10       179\n",
      "     class_6       0.10      0.07      0.08       122\n",
      "     class_7       0.11      0.07      0.09       150\n",
      "     class_8       0.07      0.17      0.09        48\n",
      "     class_9       0.05      0.05      0.05        81\n",
      "    class_10       0.05      0.11      0.07        62\n",
      "    class_11       0.05      0.26      0.08        38\n",
      "    class_12       0.03      0.21      0.05        29\n",
      "\n",
      "   micro avg       0.14      0.14      0.14      1671\n",
      "   macro avg       0.13      0.14      0.11      1671\n",
      "weighted avg       0.19      0.14      0.15      1671\n",
      "\n"
     ]
    },
    {
     "data": {
      "text/plain": [
       "Counter({3.0: 315,\n",
       "         10.0: 616,\n",
       "         4.0: 288,\n",
       "         8.0: 245,\n",
       "         7.0: 378,\n",
       "         11.0: 713,\n",
       "         6.0: 309,\n",
       "         0.0: 584,\n",
       "         9.0: 389,\n",
       "         1.0: 378,\n",
       "         2.0: 483,\n",
       "         5.0: 315})"
      ]
     },
     "execution_count": 37,
     "metadata": {},
     "output_type": "execute_result"
    }
   ],
   "source": [
    "print (\"Test Accuracy for SVM model = {:.4f}\".format(grid_svm.score(X_test,y_test)))\n",
    "print(classification_report(y_test, grid_svm.predict(X_test), target_names=class_names))\n",
    "Counter(grid_svm.predict(X_train))"
   ]
  },
  {
   "cell_type": "markdown",
   "metadata": {},
   "source": [
    "### RandomForrest Builder"
   ]
  },
  {
   "cell_type": "code",
   "execution_count": 40,
   "metadata": {},
   "outputs": [
    {
     "name": "stdout",
     "output_type": "stream",
     "text": [
      "Best cross-validation score Random Forrest 0.39\n",
      "Best parameters:{'classifier__max_depth': 100, 'classifier__max_features': 'auto', 'classifier__min_samples_leaf': 1, 'classifier__n_estimators': 100}\n"
     ]
    }
   ],
   "source": [
    "param_grid = {'classifier__max_depth': [10, 20, 50, 100],\n",
    "              'classifier__max_features': ['auto', 'sqrt'],\n",
    "              'classifier__n_estimators': [20, 50, 100],\n",
    "              'classifier__bootstrap': [True, False],\n",
    "              'classifier__min_samples_split': [2, 5, 10],\n",
    "              'classifier__min_samples_leaf': [1, 2, 4],\n",
    "             },\n",
    "             \n",
    "grid_rf = CM.RandomForestBuilder(param_grid, scoring = 'accuracy')\n",
    "\n",
    "grid_rf.fit(X_train_oversample, y_train_oversample)\n",
    "print (\"Best cross-validation score Random Forrest {:.2f}\".format(grid_rf.best_score_))\n",
    "print (\"Best parameters:{}\".format(grid_rf.best_params_))"
   ]
  },
  {
   "cell_type": "markdown",
   "metadata": {},
   "source": [
    "### Classification Summary for RandomForrest"
   ]
  },
  {
   "cell_type": "code",
   "execution_count": 41,
   "metadata": {},
   "outputs": [
    {
     "name": "stdout",
     "output_type": "stream",
     "text": [
      "Test Accuracy for RF model = 0.1358\n",
      "              precision    recall  f1-score   support\n",
      "\n",
      "     class_1       0.36      0.25      0.30       279\n",
      "     class_2       0.11      0.12      0.11       103\n",
      "     class_3       0.31      0.15      0.20       359\n",
      "     class_4       0.18      0.09      0.12       221\n",
      "     class_5       0.16      0.07      0.10       179\n",
      "     class_6       0.10      0.07      0.09       122\n",
      "     class_7       0.11      0.07      0.09       150\n",
      "     class_8       0.06      0.17      0.09        48\n",
      "     class_9       0.04      0.05      0.05        81\n",
      "    class_10       0.05      0.13      0.07        62\n",
      "    class_11       0.06      0.29      0.09        38\n",
      "    class_12       0.03      0.24      0.06        29\n",
      "\n",
      "   micro avg       0.14      0.14      0.14      1671\n",
      "   macro avg       0.13      0.14      0.11      1671\n",
      "weighted avg       0.20      0.14      0.15      1671\n",
      "\n"
     ]
    },
    {
     "data": {
      "text/plain": [
       "Counter({3.0: 336,\n",
       "         9.0: 420,\n",
       "         4.0: 294,\n",
       "         8.0: 249,\n",
       "         7.0: 396,\n",
       "         10.0: 583,\n",
       "         11.0: 706,\n",
       "         6.0: 304,\n",
       "         0.0: 563,\n",
       "         1.0: 396,\n",
       "         2.0: 464,\n",
       "         5.0: 302})"
      ]
     },
     "execution_count": 41,
     "metadata": {},
     "output_type": "execute_result"
    }
   ],
   "source": [
    "print (\"Test Accuracy for RF model = {:.4f}\".format(grid_rf.score(X_test,y_test)))\n",
    "print(classification_report(y_test, grid_rf.predict(X_test), target_names=class_names))\n",
    "Counter(grid_rf.predict(X_train))"
   ]
  },
  {
   "cell_type": "markdown",
   "metadata": {},
   "source": [
    "### RMSE of predicted months"
   ]
  },
  {
   "cell_type": "code",
   "execution_count": 42,
   "metadata": {},
   "outputs": [
    {
     "name": "stdout",
     "output_type": "stream",
     "text": [
      "Root Mean Square Error Logistic Regression:142.55525244620065\n"
     ]
    }
   ],
   "source": [
    "y_pred = grid_lr.predict(X_test)\n",
    "rmse = (sum((y_pred-y_test.values)**2))**0.5\n",
    "print (\"Root Mean Square Error Logistic Regression:{}\".format(rmse))"
   ]
  },
  {
   "cell_type": "code",
   "execution_count": 43,
   "metadata": {},
   "outputs": [
    {
     "name": "stdout",
     "output_type": "stream",
     "text": [
      "Root Mean Square Error RandomForrest:187.0935594829496\n"
     ]
    }
   ],
   "source": [
    "y_pred = grid_rf.predict(X_test)\n",
    "rmse = (sum((y_pred-y_test.values)**2))**0.5\n",
    "print (\"Root Mean Square Error RandomForrest:{}\".format(rmse))"
   ]
  },
  {
   "cell_type": "markdown",
   "metadata": {},
   "source": [
    "### Predicted probabilities for the 12 classes using the two models"
   ]
  },
  {
   "cell_type": "code",
   "execution_count": 44,
   "metadata": {},
   "outputs": [
    {
     "data": {
      "text/html": [
       "<div>\n",
       "<style scoped>\n",
       "    .dataframe tbody tr th:only-of-type {\n",
       "        vertical-align: middle;\n",
       "    }\n",
       "\n",
       "    .dataframe tbody tr th {\n",
       "        vertical-align: top;\n",
       "    }\n",
       "\n",
       "    .dataframe thead th {\n",
       "        text-align: right;\n",
       "    }\n",
       "</style>\n",
       "<table border=\"1\" class=\"dataframe\">\n",
       "  <thead>\n",
       "    <tr style=\"text-align: right;\">\n",
       "      <th></th>\n",
       "      <th>1</th>\n",
       "      <th>2</th>\n",
       "      <th>3</th>\n",
       "      <th>4</th>\n",
       "      <th>5</th>\n",
       "      <th>6</th>\n",
       "      <th>7</th>\n",
       "      <th>8</th>\n",
       "      <th>9</th>\n",
       "      <th>10</th>\n",
       "      <th>11</th>\n",
       "      <th>12</th>\n",
       "    </tr>\n",
       "  </thead>\n",
       "  <tbody>\n",
       "    <tr>\n",
       "      <th>0</th>\n",
       "      <td>0.060960</td>\n",
       "      <td>0.046068</td>\n",
       "      <td>0.177083</td>\n",
       "      <td>0.129344</td>\n",
       "      <td>0.123692</td>\n",
       "      <td>0.094476</td>\n",
       "      <td>0.108709</td>\n",
       "      <td>0.041379</td>\n",
       "      <td>0.061659</td>\n",
       "      <td>0.064346</td>\n",
       "      <td>0.055347</td>\n",
       "      <td>0.036939</td>\n",
       "    </tr>\n",
       "    <tr>\n",
       "      <th>1</th>\n",
       "      <td>0.191684</td>\n",
       "      <td>0.096426</td>\n",
       "      <td>0.175066</td>\n",
       "      <td>0.090028</td>\n",
       "      <td>0.096193</td>\n",
       "      <td>0.127489</td>\n",
       "      <td>0.062732</td>\n",
       "      <td>0.024067</td>\n",
       "      <td>0.045361</td>\n",
       "      <td>0.052077</td>\n",
       "      <td>0.026617</td>\n",
       "      <td>0.012259</td>\n",
       "    </tr>\n",
       "    <tr>\n",
       "      <th>2</th>\n",
       "      <td>0.153577</td>\n",
       "      <td>0.101582</td>\n",
       "      <td>0.224608</td>\n",
       "      <td>0.103688</td>\n",
       "      <td>0.105898</td>\n",
       "      <td>0.081693</td>\n",
       "      <td>0.079544</td>\n",
       "      <td>0.021342</td>\n",
       "      <td>0.040951</td>\n",
       "      <td>0.039658</td>\n",
       "      <td>0.035784</td>\n",
       "      <td>0.011675</td>\n",
       "    </tr>\n",
       "    <tr>\n",
       "      <th>3</th>\n",
       "      <td>0.088158</td>\n",
       "      <td>0.059006</td>\n",
       "      <td>0.146097</td>\n",
       "      <td>0.128702</td>\n",
       "      <td>0.128248</td>\n",
       "      <td>0.072058</td>\n",
       "      <td>0.115862</td>\n",
       "      <td>0.043401</td>\n",
       "      <td>0.070974</td>\n",
       "      <td>0.061796</td>\n",
       "      <td>0.048916</td>\n",
       "      <td>0.036782</td>\n",
       "    </tr>\n",
       "    <tr>\n",
       "      <th>4</th>\n",
       "      <td>0.219538</td>\n",
       "      <td>0.085965</td>\n",
       "      <td>0.300420</td>\n",
       "      <td>0.129058</td>\n",
       "      <td>0.076185</td>\n",
       "      <td>0.076921</td>\n",
       "      <td>0.051838</td>\n",
       "      <td>0.012302</td>\n",
       "      <td>0.017893</td>\n",
       "      <td>0.013528</td>\n",
       "      <td>0.008487</td>\n",
       "      <td>0.007865</td>\n",
       "    </tr>\n",
       "    <tr>\n",
       "      <th>5</th>\n",
       "      <td>0.219045</td>\n",
       "      <td>0.123161</td>\n",
       "      <td>0.191188</td>\n",
       "      <td>0.111361</td>\n",
       "      <td>0.080374</td>\n",
       "      <td>0.067179</td>\n",
       "      <td>0.050216</td>\n",
       "      <td>0.032094</td>\n",
       "      <td>0.036391</td>\n",
       "      <td>0.046880</td>\n",
       "      <td>0.030450</td>\n",
       "      <td>0.011662</td>\n",
       "    </tr>\n",
       "    <tr>\n",
       "      <th>6</th>\n",
       "      <td>0.256455</td>\n",
       "      <td>0.079283</td>\n",
       "      <td>0.244963</td>\n",
       "      <td>0.123658</td>\n",
       "      <td>0.099716</td>\n",
       "      <td>0.071231</td>\n",
       "      <td>0.047366</td>\n",
       "      <td>0.015217</td>\n",
       "      <td>0.025608</td>\n",
       "      <td>0.016978</td>\n",
       "      <td>0.011654</td>\n",
       "      <td>0.007871</td>\n",
       "    </tr>\n",
       "    <tr>\n",
       "      <th>7</th>\n",
       "      <td>0.326748</td>\n",
       "      <td>0.089718</td>\n",
       "      <td>0.184812</td>\n",
       "      <td>0.126241</td>\n",
       "      <td>0.092377</td>\n",
       "      <td>0.047605</td>\n",
       "      <td>0.060309</td>\n",
       "      <td>0.012268</td>\n",
       "      <td>0.025994</td>\n",
       "      <td>0.016480</td>\n",
       "      <td>0.010507</td>\n",
       "      <td>0.006942</td>\n",
       "    </tr>\n",
       "    <tr>\n",
       "      <th>8</th>\n",
       "      <td>0.273817</td>\n",
       "      <td>0.070929</td>\n",
       "      <td>0.241261</td>\n",
       "      <td>0.115132</td>\n",
       "      <td>0.106418</td>\n",
       "      <td>0.062460</td>\n",
       "      <td>0.057858</td>\n",
       "      <td>0.008962</td>\n",
       "      <td>0.025263</td>\n",
       "      <td>0.017761</td>\n",
       "      <td>0.012599</td>\n",
       "      <td>0.007541</td>\n",
       "    </tr>\n",
       "    <tr>\n",
       "      <th>9</th>\n",
       "      <td>0.201165</td>\n",
       "      <td>0.073916</td>\n",
       "      <td>0.183657</td>\n",
       "      <td>0.094853</td>\n",
       "      <td>0.085723</td>\n",
       "      <td>0.087869</td>\n",
       "      <td>0.079432</td>\n",
       "      <td>0.028692</td>\n",
       "      <td>0.052975</td>\n",
       "      <td>0.045495</td>\n",
       "      <td>0.046977</td>\n",
       "      <td>0.019246</td>\n",
       "    </tr>\n",
       "  </tbody>\n",
       "</table>\n",
       "</div>"
      ],
      "text/plain": [
       "         1         2         3         4         5         6         7   \\\n",
       "0  0.060960  0.046068  0.177083  0.129344  0.123692  0.094476  0.108709   \n",
       "1  0.191684  0.096426  0.175066  0.090028  0.096193  0.127489  0.062732   \n",
       "2  0.153577  0.101582  0.224608  0.103688  0.105898  0.081693  0.079544   \n",
       "3  0.088158  0.059006  0.146097  0.128702  0.128248  0.072058  0.115862   \n",
       "4  0.219538  0.085965  0.300420  0.129058  0.076185  0.076921  0.051838   \n",
       "5  0.219045  0.123161  0.191188  0.111361  0.080374  0.067179  0.050216   \n",
       "6  0.256455  0.079283  0.244963  0.123658  0.099716  0.071231  0.047366   \n",
       "7  0.326748  0.089718  0.184812  0.126241  0.092377  0.047605  0.060309   \n",
       "8  0.273817  0.070929  0.241261  0.115132  0.106418  0.062460  0.057858   \n",
       "9  0.201165  0.073916  0.183657  0.094853  0.085723  0.087869  0.079432   \n",
       "\n",
       "         8         9         10        11        12  \n",
       "0  0.041379  0.061659  0.064346  0.055347  0.036939  \n",
       "1  0.024067  0.045361  0.052077  0.026617  0.012259  \n",
       "2  0.021342  0.040951  0.039658  0.035784  0.011675  \n",
       "3  0.043401  0.070974  0.061796  0.048916  0.036782  \n",
       "4  0.012302  0.017893  0.013528  0.008487  0.007865  \n",
       "5  0.032094  0.036391  0.046880  0.030450  0.011662  \n",
       "6  0.015217  0.025608  0.016978  0.011654  0.007871  \n",
       "7  0.012268  0.025994  0.016480  0.010507  0.006942  \n",
       "8  0.008962  0.025263  0.017761  0.012599  0.007541  \n",
       "9  0.028692  0.052975  0.045495  0.046977  0.019246  "
      ]
     },
     "execution_count": 44,
     "metadata": {},
     "output_type": "execute_result"
    }
   ],
   "source": [
    "pd.DataFrame(grid_lr.predict_proba(X_test)[0:10], columns = range(1,13))"
   ]
  },
  {
   "cell_type": "code",
   "execution_count": 45,
   "metadata": {},
   "outputs": [
    {
     "data": {
      "text/html": [
       "<div>\n",
       "<style scoped>\n",
       "    .dataframe tbody tr th:only-of-type {\n",
       "        vertical-align: middle;\n",
       "    }\n",
       "\n",
       "    .dataframe tbody tr th {\n",
       "        vertical-align: top;\n",
       "    }\n",
       "\n",
       "    .dataframe thead th {\n",
       "        text-align: right;\n",
       "    }\n",
       "</style>\n",
       "<table border=\"1\" class=\"dataframe\">\n",
       "  <thead>\n",
       "    <tr style=\"text-align: right;\">\n",
       "      <th></th>\n",
       "      <th>1</th>\n",
       "      <th>2</th>\n",
       "      <th>3</th>\n",
       "      <th>4</th>\n",
       "      <th>5</th>\n",
       "      <th>6</th>\n",
       "      <th>7</th>\n",
       "      <th>8</th>\n",
       "      <th>9</th>\n",
       "      <th>10</th>\n",
       "      <th>11</th>\n",
       "      <th>12</th>\n",
       "    </tr>\n",
       "  </thead>\n",
       "  <tbody>\n",
       "    <tr>\n",
       "      <th>0</th>\n",
       "      <td>0.041503</td>\n",
       "      <td>0.000000</td>\n",
       "      <td>0.022106</td>\n",
       "      <td>0.091299</td>\n",
       "      <td>0.056740</td>\n",
       "      <td>0.041516</td>\n",
       "      <td>0.127775</td>\n",
       "      <td>0.142093</td>\n",
       "      <td>0.191783</td>\n",
       "      <td>0.000000</td>\n",
       "      <td>0.285185</td>\n",
       "      <td>0.000000</td>\n",
       "    </tr>\n",
       "    <tr>\n",
       "      <th>1</th>\n",
       "      <td>0.000000</td>\n",
       "      <td>0.000000</td>\n",
       "      <td>0.124969</td>\n",
       "      <td>0.116071</td>\n",
       "      <td>0.000000</td>\n",
       "      <td>0.000000</td>\n",
       "      <td>0.000000</td>\n",
       "      <td>0.000000</td>\n",
       "      <td>0.000000</td>\n",
       "      <td>0.758960</td>\n",
       "      <td>0.000000</td>\n",
       "      <td>0.000000</td>\n",
       "    </tr>\n",
       "    <tr>\n",
       "      <th>2</th>\n",
       "      <td>0.017084</td>\n",
       "      <td>0.032404</td>\n",
       "      <td>0.140212</td>\n",
       "      <td>0.015863</td>\n",
       "      <td>0.234002</td>\n",
       "      <td>0.111957</td>\n",
       "      <td>0.331285</td>\n",
       "      <td>0.000000</td>\n",
       "      <td>0.117194</td>\n",
       "      <td>0.000000</td>\n",
       "      <td>0.000000</td>\n",
       "      <td>0.000000</td>\n",
       "    </tr>\n",
       "    <tr>\n",
       "      <th>3</th>\n",
       "      <td>0.021319</td>\n",
       "      <td>0.037553</td>\n",
       "      <td>0.052187</td>\n",
       "      <td>0.086872</td>\n",
       "      <td>0.062852</td>\n",
       "      <td>0.041858</td>\n",
       "      <td>0.138405</td>\n",
       "      <td>0.098081</td>\n",
       "      <td>0.101458</td>\n",
       "      <td>0.114852</td>\n",
       "      <td>0.097211</td>\n",
       "      <td>0.147352</td>\n",
       "    </tr>\n",
       "    <tr>\n",
       "      <th>4</th>\n",
       "      <td>0.027000</td>\n",
       "      <td>0.010000</td>\n",
       "      <td>0.862000</td>\n",
       "      <td>0.005000</td>\n",
       "      <td>0.070000</td>\n",
       "      <td>0.026000</td>\n",
       "      <td>0.000000</td>\n",
       "      <td>0.000000</td>\n",
       "      <td>0.000000</td>\n",
       "      <td>0.000000</td>\n",
       "      <td>0.000000</td>\n",
       "      <td>0.000000</td>\n",
       "    </tr>\n",
       "    <tr>\n",
       "      <th>5</th>\n",
       "      <td>0.185000</td>\n",
       "      <td>0.077067</td>\n",
       "      <td>0.218375</td>\n",
       "      <td>0.064861</td>\n",
       "      <td>0.013000</td>\n",
       "      <td>0.030000</td>\n",
       "      <td>0.003056</td>\n",
       "      <td>0.364066</td>\n",
       "      <td>0.000000</td>\n",
       "      <td>0.039576</td>\n",
       "      <td>0.005000</td>\n",
       "      <td>0.000000</td>\n",
       "    </tr>\n",
       "    <tr>\n",
       "      <th>6</th>\n",
       "      <td>0.091703</td>\n",
       "      <td>0.048606</td>\n",
       "      <td>0.125035</td>\n",
       "      <td>0.126083</td>\n",
       "      <td>0.167343</td>\n",
       "      <td>0.051938</td>\n",
       "      <td>0.025650</td>\n",
       "      <td>0.181762</td>\n",
       "      <td>0.076786</td>\n",
       "      <td>0.013000</td>\n",
       "      <td>0.000000</td>\n",
       "      <td>0.092094</td>\n",
       "    </tr>\n",
       "    <tr>\n",
       "      <th>7</th>\n",
       "      <td>0.221916</td>\n",
       "      <td>0.442808</td>\n",
       "      <td>0.078130</td>\n",
       "      <td>0.113638</td>\n",
       "      <td>0.000000</td>\n",
       "      <td>0.084570</td>\n",
       "      <td>0.058938</td>\n",
       "      <td>0.000000</td>\n",
       "      <td>0.000000</td>\n",
       "      <td>0.000000</td>\n",
       "      <td>0.000000</td>\n",
       "      <td>0.000000</td>\n",
       "    </tr>\n",
       "    <tr>\n",
       "      <th>8</th>\n",
       "      <td>0.500281</td>\n",
       "      <td>0.000000</td>\n",
       "      <td>0.375212</td>\n",
       "      <td>0.000000</td>\n",
       "      <td>0.124507</td>\n",
       "      <td>0.000000</td>\n",
       "      <td>0.000000</td>\n",
       "      <td>0.000000</td>\n",
       "      <td>0.000000</td>\n",
       "      <td>0.000000</td>\n",
       "      <td>0.000000</td>\n",
       "      <td>0.000000</td>\n",
       "    </tr>\n",
       "    <tr>\n",
       "      <th>9</th>\n",
       "      <td>0.000000</td>\n",
       "      <td>0.000000</td>\n",
       "      <td>0.000000</td>\n",
       "      <td>0.002941</td>\n",
       "      <td>0.000000</td>\n",
       "      <td>0.981765</td>\n",
       "      <td>0.000000</td>\n",
       "      <td>0.000000</td>\n",
       "      <td>0.002353</td>\n",
       "      <td>0.002941</td>\n",
       "      <td>0.010000</td>\n",
       "      <td>0.000000</td>\n",
       "    </tr>\n",
       "  </tbody>\n",
       "</table>\n",
       "</div>"
      ],
      "text/plain": [
       "         1         2         3         4         5         6         7   \\\n",
       "0  0.041503  0.000000  0.022106  0.091299  0.056740  0.041516  0.127775   \n",
       "1  0.000000  0.000000  0.124969  0.116071  0.000000  0.000000  0.000000   \n",
       "2  0.017084  0.032404  0.140212  0.015863  0.234002  0.111957  0.331285   \n",
       "3  0.021319  0.037553  0.052187  0.086872  0.062852  0.041858  0.138405   \n",
       "4  0.027000  0.010000  0.862000  0.005000  0.070000  0.026000  0.000000   \n",
       "5  0.185000  0.077067  0.218375  0.064861  0.013000  0.030000  0.003056   \n",
       "6  0.091703  0.048606  0.125035  0.126083  0.167343  0.051938  0.025650   \n",
       "7  0.221916  0.442808  0.078130  0.113638  0.000000  0.084570  0.058938   \n",
       "8  0.500281  0.000000  0.375212  0.000000  0.124507  0.000000  0.000000   \n",
       "9  0.000000  0.000000  0.000000  0.002941  0.000000  0.981765  0.000000   \n",
       "\n",
       "         8         9         10        11        12  \n",
       "0  0.142093  0.191783  0.000000  0.285185  0.000000  \n",
       "1  0.000000  0.000000  0.758960  0.000000  0.000000  \n",
       "2  0.000000  0.117194  0.000000  0.000000  0.000000  \n",
       "3  0.098081  0.101458  0.114852  0.097211  0.147352  \n",
       "4  0.000000  0.000000  0.000000  0.000000  0.000000  \n",
       "5  0.364066  0.000000  0.039576  0.005000  0.000000  \n",
       "6  0.181762  0.076786  0.013000  0.000000  0.092094  \n",
       "7  0.000000  0.000000  0.000000  0.000000  0.000000  \n",
       "8  0.000000  0.000000  0.000000  0.000000  0.000000  \n",
       "9  0.000000  0.002353  0.002941  0.010000  0.000000  "
      ]
     },
     "execution_count": 45,
     "metadata": {},
     "output_type": "execute_result"
    }
   ],
   "source": [
    "pd.DataFrame(grid_rf.predict_proba(X_test)[0:10], columns = range(1,13))"
   ]
  },
  {
   "cell_type": "code",
   "execution_count": null,
   "metadata": {},
   "outputs": [],
   "source": []
  },
  {
   "cell_type": "markdown",
   "metadata": {},
   "source": [
    "## Conclusion/future work:"
   ]
  },
  {
   "cell_type": "markdown",
   "metadata": {},
   "source": [
    "- I explored different algorithms based on dataset and Random Forest is outperforming than the others.\n",
    "- I added cancellation reasons as word vectors in features and tried to improve model performance but it was not adding much value but we can explore other word embeddings to improve model performace.\n",
    "- There is a class imbalance in dataset, after doing oversampling, model performance improved slightly.  \n",
    "- Also, because of small amount of data, I couldn't explore deep learning based models but if we collect more data then we can improve model performace using different suitable architecture. "
   ]
  },
  {
   "cell_type": "code",
   "execution_count": null,
   "metadata": {},
   "outputs": [],
   "source": []
  }
 ],
 "metadata": {
  "kernelspec": {
   "display_name": "Python 3",
   "language": "python",
   "name": "python3"
  },
  "language_info": {
   "codemirror_mode": {
    "name": "ipython",
    "version": 3
   },
   "file_extension": ".py",
   "mimetype": "text/x-python",
   "name": "python",
   "nbconvert_exporter": "python",
   "pygments_lexer": "ipython3",
   "version": "3.6.8"
  }
 },
 "nbformat": 4,
 "nbformat_minor": 2
}
