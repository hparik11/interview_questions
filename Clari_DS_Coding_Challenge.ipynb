{
 "cells": [
  {
   "cell_type": "markdown",
   "metadata": {},
   "source": [
    "# Libraries/Dependencies"
   ]
  },
  {
   "cell_type": "code",
   "execution_count": 83,
   "metadata": {},
   "outputs": [],
   "source": [
    "import pandas as pd\n",
    "import numpy as np\n",
    "import datetime"
   ]
  },
  {
   "cell_type": "markdown",
   "metadata": {},
   "source": [
    "## Load csv into pandas dataframe"
   ]
  },
  {
   "cell_type": "code",
   "execution_count": 2,
   "metadata": {},
   "outputs": [],
   "source": [
    "dataframe = pd.read_csv('/Users/hparikh/ds-coding-interview-data-engineering/oppty_history.csv')"
   ]
  },
  {
   "cell_type": "markdown",
   "metadata": {},
   "source": [
    "## Let's take a peak at our dataset"
   ]
  },
  {
   "cell_type": "code",
   "execution_count": 75,
   "metadata": {
    "scrolled": true
   },
   "outputs": [
    {
     "data": {
      "text/html": [
       "<div>\n",
       "<style scoped>\n",
       "    .dataframe tbody tr th:only-of-type {\n",
       "        vertical-align: middle;\n",
       "    }\n",
       "\n",
       "    .dataframe tbody tr th {\n",
       "        vertical-align: top;\n",
       "    }\n",
       "\n",
       "    .dataframe thead th {\n",
       "        text-align: right;\n",
       "    }\n",
       "</style>\n",
       "<table border=\"1\" class=\"dataframe\">\n",
       "  <thead>\n",
       "    <tr style=\"text-align: right;\">\n",
       "      <th></th>\n",
       "      <th>opptyId</th>\n",
       "      <th>field</th>\n",
       "      <th>oldValue</th>\n",
       "      <th>newValue</th>\n",
       "      <th>updateTime</th>\n",
       "    </tr>\n",
       "  </thead>\n",
       "  <tbody>\n",
       "    <tr>\n",
       "      <th>0</th>\n",
       "      <td>0</td>\n",
       "      <td>Stage</td>\n",
       "      <td>NaN</td>\n",
       "      <td>Qualify</td>\n",
       "      <td>2014-05-27T18:50:14</td>\n",
       "    </tr>\n",
       "    <tr>\n",
       "      <th>1</th>\n",
       "      <td>0</td>\n",
       "      <td>Forecast</td>\n",
       "      <td>NaN</td>\n",
       "      <td>Best Case</td>\n",
       "      <td>2014-05-27T18:50:14</td>\n",
       "    </tr>\n",
       "    <tr>\n",
       "      <th>2</th>\n",
       "      <td>0</td>\n",
       "      <td>created</td>\n",
       "      <td>NaN</td>\n",
       "      <td>NaN</td>\n",
       "      <td>2014-05-27T18:50:14</td>\n",
       "    </tr>\n",
       "    <tr>\n",
       "      <th>3</th>\n",
       "      <td>0</td>\n",
       "      <td>Amount</td>\n",
       "      <td>NaN</td>\n",
       "      <td>795.53</td>\n",
       "      <td>2014-06-17T18:54:00</td>\n",
       "    </tr>\n",
       "    <tr>\n",
       "      <th>4</th>\n",
       "      <td>0</td>\n",
       "      <td>Stage</td>\n",
       "      <td>Qualify</td>\n",
       "      <td>Closed - Won</td>\n",
       "      <td>2014-07-09T20:11:05</td>\n",
       "    </tr>\n",
       "    <tr>\n",
       "      <th>5</th>\n",
       "      <td>0</td>\n",
       "      <td>Forecast</td>\n",
       "      <td>Best Case</td>\n",
       "      <td>Closed</td>\n",
       "      <td>2014-07-09T20:11:05</td>\n",
       "    </tr>\n",
       "    <tr>\n",
       "      <th>6</th>\n",
       "      <td>1</td>\n",
       "      <td>Stage</td>\n",
       "      <td>NaN</td>\n",
       "      <td>Target</td>\n",
       "      <td>2013-08-13T04:36:09</td>\n",
       "    </tr>\n",
       "    <tr>\n",
       "      <th>7</th>\n",
       "      <td>1</td>\n",
       "      <td>Forecast</td>\n",
       "      <td>NaN</td>\n",
       "      <td>Omitted</td>\n",
       "      <td>2013-08-13T04:36:09</td>\n",
       "    </tr>\n",
       "    <tr>\n",
       "      <th>8</th>\n",
       "      <td>1</td>\n",
       "      <td>created</td>\n",
       "      <td>NaN</td>\n",
       "      <td>NaN</td>\n",
       "      <td>2013-08-13T04:36:09</td>\n",
       "    </tr>\n",
       "    <tr>\n",
       "      <th>9</th>\n",
       "      <td>1</td>\n",
       "      <td>Amount</td>\n",
       "      <td>NaN</td>\n",
       "      <td>395.0</td>\n",
       "      <td>2013-08-15T03:51:15</td>\n",
       "    </tr>\n",
       "  </tbody>\n",
       "</table>\n",
       "</div>"
      ],
      "text/plain": [
       "   opptyId     field   oldValue      newValue           updateTime\n",
       "0        0     Stage        NaN       Qualify  2014-05-27T18:50:14\n",
       "1        0  Forecast        NaN     Best Case  2014-05-27T18:50:14\n",
       "2        0   created        NaN           NaN  2014-05-27T18:50:14\n",
       "3        0    Amount        NaN        795.53  2014-06-17T18:54:00\n",
       "4        0     Stage    Qualify  Closed - Won  2014-07-09T20:11:05\n",
       "5        0  Forecast  Best Case        Closed  2014-07-09T20:11:05\n",
       "6        1     Stage        NaN        Target  2013-08-13T04:36:09\n",
       "7        1  Forecast        NaN       Omitted  2013-08-13T04:36:09\n",
       "8        1   created        NaN           NaN  2013-08-13T04:36:09\n",
       "9        1    Amount        NaN         395.0  2013-08-15T03:51:15"
      ]
     },
     "execution_count": 75,
     "metadata": {},
     "output_type": "execute_result"
    }
   ],
   "source": [
    "dataframe.head(10)"
   ]
  },
  {
   "cell_type": "code",
   "execution_count": 46,
   "metadata": {},
   "outputs": [
    {
     "name": "stdout",
     "output_type": "stream",
     "text": [
      "There are total rows: 907012 and columns: 5\n"
     ]
    }
   ],
   "source": [
    "print(\"There are total rows: {0} and columns: {1}\".format(dataframe.shape[0], dataframe.shape[1]))"
   ]
  },
  {
   "cell_type": "markdown",
   "metadata": {},
   "source": [
    "## How many deals did we close out of all? "
   ]
  },
  {
   "cell_type": "code",
   "execution_count": 67,
   "metadata": {},
   "outputs": [
    {
     "name": "stdout",
     "output_type": "stream",
     "text": [
      "Number of Closed deals are 78407/139726 = 0.56%\n"
     ]
    }
   ],
   "source": [
    "def getInsightsFromData(input_dataframe):\n",
    "    total_num_of_deals = input_dataframe['opptyId'].nunique()\n",
    "    num_of_closed_deals = input_dataframe[input_dataframe[\"newValue\"] == 'Closed'].shape[0]\n",
    "    \n",
    "    percentage_of_deal_closing = num_of_closed_deals/total_num_of_deals\n",
    "    \n",
    "    return num_of_closed_deals, total_num_of_deals, percentage_of_deal_closing\n",
    "\n",
    "num_of_closed_deals, total_num_of_deals, percentage_of_deal_closing = getInsightsFromData(dataframe)\n",
    "\n",
    "print(\"Number of Closed deals are {0}/{1} = {2}%\".format(num_of_closed_deals, total_num_of_deals, round(percentage_of_deal_closing, 2)))\n"
   ]
  },
  {
   "cell_type": "markdown",
   "metadata": {},
   "source": [
    "# Task1"
   ]
  },
  {
   "cell_type": "markdown",
   "metadata": {},
   "source": [
    "#### Please compute the average lifetime of WON opportunities, in terms of median and mean, respectively.  Based on the results, do you think the hypothesis that “it takes 3 months to win one opportunity” to be true? "
   ]
  },
  {
   "cell_type": "code",
   "execution_count": 44,
   "metadata": {},
   "outputs": [],
   "source": [
    "def findLifeTimeOfOpportunities(input_dataframe):\n",
    "    \"\"\"\n",
    "    This function takes dataframe as an input \n",
    "    and return mean and median lifetime of all opportunities.\n",
    "    \"\"\"\n",
    "    \n",
    "    # Let's start with getting close deals information.\n",
    "    close_deals_info = input_dataframe[input_dataframe[\"newValue\"] == 'Closed'][['opptyId', 'updateTime']]\n",
    "    \n",
    "    # Once we get information about which deals are closed then we can iterate \n",
    "    # one by one opportunity id and get create/start date of that. \n",
    "    rows_list = []\n",
    "    for each_id in close_deals_info['opptyId'].to_list():\n",
    "        deal_start_dict = {}\n",
    "        deal_start_dict['opptyId'] = each_id\n",
    "        deal_start_dict['startTime'] = input_dataframe[input_dataframe['opptyId'] == each_id].iloc[0]['updateTime']\n",
    "        rows_list.append(deal_start_dict)\n",
    "        \n",
    "    create_deals_info = pd.DataFrame(rows_list)  \n",
    "    \n",
    "    deals_info = pd.merge(close_deals_info, create_deals_info, on='opptyId')\n",
    "    \n",
    "    # Now, we need to find difference between start time and close time. \n",
    "    deals_info['diff_days'] = pd.to_datetime(deals_info['updateTime']) - pd.to_datetime(deals_info['startTime'])\n",
    "    deals_info['diff_days'] = deals_info['diff_days']/np.timedelta64(1,'D')\n",
    "    \n",
    "    # At the end, take the mean and median of the column\n",
    "    mean_time = deals_info['diff_days'].mean()\n",
    "    median_time = deals_info['diff_days'].median()\n",
    "    \n",
    "    return mean_time, median_time"
   ]
  },
  {
   "cell_type": "code",
   "execution_count": 45,
   "metadata": {},
   "outputs": [],
   "source": [
    "mean_time, median_time = findLifeTimeOfOpportunities(dataframe)"
   ]
  },
  {
   "cell_type": "code",
   "execution_count": 73,
   "metadata": {},
   "outputs": [
    {
     "name": "stdout",
     "output_type": "stream",
     "text": [
      " Median lifetime: 27 days\n",
      " Mean lifetime: 53 days\n"
     ]
    }
   ],
   "source": [
    "print(\" Median lifetime: {0} days\\n Mean lifetime: {1} days\".format(int(median_time), int(mean_time)))"
   ]
  },
  {
   "cell_type": "markdown",
   "metadata": {},
   "source": [
    "### Answer: So our hypothesis seems off. It takes around 2 months to close a deal on average or win an opportunity"
   ]
  },
  {
   "cell_type": "markdown",
   "metadata": {},
   "source": [
    "# Task 2"
   ]
  },
  {
   "cell_type": "markdown",
   "metadata": {},
   "source": [
    "#### Now, think of the data to be much larger, say billions of records for one org, and we are serving hundreds of orgs.  Each day, new data are coming as some opportunities get updated.\n",
    "#### Now we need to support analytics in real time like the following queries: \n",
    "#### * Show the aggregate amount of opportunities at certain time\n",
    "#### * Identify which opportunities moved from one particular stage to another specific stage from timestamp 1 to timestamp 2.\n",
    "#### How would you store the data?  What kind of schema would you use?  Pros/Cons in your design? "
   ]
  },
  {
   "cell_type": "raw",
   "metadata": {},
   "source": [
    "For real time analysis of billions of records, we have to store data in a way so that read/write operations will be fast enough. Also, we need to use time series database to support the analysis. We can do both queries operations in this database esp. if we want to find which stage a particular opprtunity during specific timestamp. \n",
    "\n",
    "Pros: \n",
    "1) Time-series data accumulates very quickly. Relational databases behave poorly with very large datasets; NoSQL databases do better at scale, but can still be outperformed by a database fine-tuned for time-series data. \n",
    "2) It also typically includes functions and operations common to time-series data analysis such as data retention policies, continuous queries, flexible time aggregations, etc.\n",
    "\n",
    "Cons:\n",
    "1) Difficult to setup first time."
   ]
  },
  {
   "cell_type": "code",
   "execution_count": null,
   "metadata": {},
   "outputs": [],
   "source": []
  },
  {
   "cell_type": "markdown",
   "metadata": {},
   "source": [
    "# Task 3"
   ]
  },
  {
   "cell_type": "markdown",
   "metadata": {},
   "source": [
    "#### Can you build a model to predict how likely one opportunity will be closed as “Closed-WON”? \n",
    "\n",
    "#### Caveat: Problem 3 can take a lot of time.\n",
    "#### The real world data will be similar to the sample data but with more fields of various types. So it is great to let you have a taste through the exercise.  "
   ]
  },
  {
   "cell_type": "markdown",
   "metadata": {},
   "source": [
    "## Let's extract features out and assign labels to each opportunity."
   ]
  },
  {
   "cell_type": "code",
   "execution_count": null,
   "metadata": {},
   "outputs": [],
   "source": [
    "allOpprtunityIDs = dataframe['opptyId'].to_list()\n",
    "row_list = []\n",
    "\n",
    "for each_id in allOpprtunityIDs:\n",
    "    # Make this sample dictionary for all deals\n",
    "    # TODO: We can add more features later on..\n",
    "    deals_dictn = {\n",
    "        'opptyId': each_id, \n",
    "        'amount': 0,\n",
    "        'days': 0,\n",
    "        'num_of_stages': 0,\n",
    "        'Label': 0\n",
    "    }\n",
    "    dealDataFrame = dataframe[dataframe['opptyId'] == each_id]\n",
    "    \n",
    "    # Get just number of stages would be helpful to determine.\n",
    "    deals_dictn['num_of_stages'] = len(dealDataFrame)\n",
    "    \n",
    "    for index, row in dealDataFrame.iterrows():\n",
    "        if row['field'] == 'created':\n",
    "            creationDate = datetime.datetime.strptime(row['updateTime'], '%Y-%m-%dT%H:%M:%S')\n",
    "        elif row['field'] == 'Amount':\n",
    "            deals_dictn['amount'] = row['newValue']\n",
    "        elif row['newValue'] == 'Closed - Lost':\n",
    "            endDate = datetime.datetime.strptime(row['updateTime'], '%Y-%m-%dT%H:%M:%S')\n",
    "            deals_dictn['Label'] = 0\n",
    "        elif row['newValue'] == 'Closed - Won':\n",
    "            endDate = datetime.datetime.strptime(row['updateTime'], '%Y-%m-%dT%H:%M:%S')\n",
    "            deals_dictn['Label'] = 1\n",
    "    \n",
    "    # Number of days to get a lifetime of an opportunity\n",
    "    days = (endDate - creationDate).days\n",
    "    deals_dictn['days'] = days\n",
    "    \n",
    "    row_list.append(deals_dictn)\n"
   ]
  },
  {
   "cell_type": "code",
   "execution_count": 90,
   "metadata": {},
   "outputs": [
    {
     "data": {
      "text/plain": [
       "[{'opptyId': 0,\n",
       "  'amount': '795.53',\n",
       "  'days': 43,\n",
       "  'num_of_stages': 6,\n",
       "  'Label': 1}]"
      ]
     },
     "execution_count": 90,
     "metadata": {},
     "output_type": "execute_result"
    }
   ],
   "source": [
    "featurize_dataframe = pd.DataFrame(row_list)  "
   ]
  },
  {
   "cell_type": "markdown",
   "metadata": {},
   "source": [
    "### I have extracted few features out but did not get a time to work on any ML model. We could start with Logistic Regression to get the benchmarking and later how it performs, we can make decision what kind of algorithm we could use. "
   ]
  },
  {
   "cell_type": "code",
   "execution_count": null,
   "metadata": {},
   "outputs": [],
   "source": []
  }
 ],
 "metadata": {
  "kernelspec": {
   "display_name": "Python 3",
   "language": "python",
   "name": "python3"
  },
  "language_info": {
   "codemirror_mode": {
    "name": "ipython",
    "version": 3
   },
   "file_extension": ".py",
   "mimetype": "text/x-python",
   "name": "python",
   "nbconvert_exporter": "python",
   "pygments_lexer": "ipython3",
   "version": "3.6.8"
  }
 },
 "nbformat": 4,
 "nbformat_minor": 2
}
